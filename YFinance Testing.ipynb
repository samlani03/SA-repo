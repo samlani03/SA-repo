{
 "cells": [
  {
   "cell_type": "code",
   "execution_count": 1,
   "metadata": {
    "scrolled": true
   },
   "outputs": [
    {
     "name": "stdout",
     "output_type": "stream",
     "text": [
      "Collecting yfinance\n",
      "  Downloading yfinance-0.1.55.tar.gz (23 kB)\n",
      "Requirement already satisfied: pandas>=0.24 in /home/ec2-user/anaconda3/envs/python3/lib/python3.6/site-packages (from yfinance) (1.0.1)\n",
      "Requirement already satisfied: numpy>=1.15 in /home/ec2-user/anaconda3/envs/python3/lib/python3.6/site-packages (from yfinance) (1.19.4)\n",
      "Requirement already satisfied: requests>=2.20 in /home/ec2-user/anaconda3/envs/python3/lib/python3.6/site-packages (from yfinance) (2.25.0)\n",
      "Requirement already satisfied: lxml>=4.5.1 in /home/ec2-user/anaconda3/envs/python3/lib/python3.6/site-packages (from yfinance) (4.6.2)\n",
      "Collecting multitasking>=0.0.7\n",
      "  Downloading multitasking-0.0.9.tar.gz (8.1 kB)\n",
      "Requirement already satisfied: numpy>=1.15 in /home/ec2-user/anaconda3/envs/python3/lib/python3.6/site-packages (from yfinance) (1.19.4)\n",
      "Requirement already satisfied: python-dateutil>=2.6.1 in /home/ec2-user/anaconda3/envs/python3/lib/python3.6/site-packages (from pandas>=0.24->yfinance) (2.8.1)\n",
      "Requirement already satisfied: pytz>=2017.2 in /home/ec2-user/anaconda3/envs/python3/lib/python3.6/site-packages (from pandas>=0.24->yfinance) (2019.3)\n",
      "Requirement already satisfied: six>=1.5 in /home/ec2-user/anaconda3/envs/python3/lib/python3.6/site-packages (from python-dateutil>=2.6.1->pandas>=0.24->yfinance) (1.15.0)\n",
      "Requirement already satisfied: idna<3,>=2.5 in /home/ec2-user/anaconda3/envs/python3/lib/python3.6/site-packages (from requests>=2.20->yfinance) (2.10)\n",
      "Requirement already satisfied: urllib3<1.27,>=1.21.1 in /home/ec2-user/anaconda3/envs/python3/lib/python3.6/site-packages (from requests>=2.20->yfinance) (1.25.11)\n",
      "Requirement already satisfied: chardet<4,>=3.0.2 in /home/ec2-user/anaconda3/envs/python3/lib/python3.6/site-packages (from requests>=2.20->yfinance) (3.0.4)\n",
      "Requirement already satisfied: certifi>=2017.4.17 in /home/ec2-user/anaconda3/envs/python3/lib/python3.6/site-packages (from requests>=2.20->yfinance) (2020.11.8)\n",
      "Building wheels for collected packages: yfinance, multitasking\n",
      "  Building wheel for yfinance (setup.py) ... \u001b[?25ldone\n",
      "\u001b[?25h  Created wheel for yfinance: filename=yfinance-0.1.55-py2.py3-none-any.whl size=22616 sha256=44cf3df5a2ab1bb69aaa5a1753d0f77b0dfbf53585523f716546e3384c228e52\n",
      "  Stored in directory: /home/ec2-user/.cache/pip/wheels/68/72/87/a384b8b8139f2489024464d6f5937e6acb2054c57d25519fb9\n",
      "  Building wheel for multitasking (setup.py) ... \u001b[?25ldone\n",
      "\u001b[?25h  Created wheel for multitasking: filename=multitasking-0.0.9-py3-none-any.whl size=8366 sha256=857e53d7a360e97b13049f196feded2e5bc5e703559ddbb64736cb93c2f49d41\n",
      "  Stored in directory: /home/ec2-user/.cache/pip/wheels/5e/8a/c4/59c699498647c7c94b14c87a904ca7540646107b3d94b7c320\n",
      "Successfully built yfinance multitasking\n",
      "Installing collected packages: multitasking, yfinance\n",
      "Successfully installed multitasking-0.0.9 yfinance-0.1.55\n",
      "\u001b[33mWARNING: You are using pip version 20.3; however, version 20.3.3 is available.\n",
      "You should consider upgrading via the '/home/ec2-user/anaconda3/envs/python3/bin/python -m pip install --upgrade pip' command.\u001b[0m\n",
      "Note: you may need to restart the kernel to use updated packages.\n"
     ]
    }
   ],
   "source": [
    "pip install yfinance"
   ]
  },
  {
   "cell_type": "code",
   "execution_count": 36,
   "metadata": {},
   "outputs": [],
   "source": [
    "import yfinance as yf\n",
    "import pandas as pd"
   ]
  },
  {
   "cell_type": "code",
   "execution_count": 52,
   "metadata": {},
   "outputs": [],
   "source": [
    "df = pd.read_csv(\"2020IPO.csv\", names=[\"IPO_Date\",\"Ticker\",\"IPO_Price\"])\n",
    "\n",
    "ko = yf.Ticker('KO')\n",
    "SKLZ=yf.Ticker('sklz')\n",
    "PSTH=yf.Ticker('psth')"
   ]
  },
  {
   "cell_type": "code",
   "execution_count": 7,
   "metadata": {},
   "outputs": [
    {
     "name": "stdout",
     "output_type": "stream",
     "text": [
      "[*********************100%***********************]  2 of 2 completed\n"
     ]
    }
   ],
   "source": [
    "data = yf.download('KO AAPL', period='6mo')"
   ]
  },
  {
   "cell_type": "code",
   "execution_count": 31,
   "metadata": {},
   "outputs": [
    {
     "name": "stdout",
     "output_type": "stream",
     "text": [
      "[*********************100%***********************]  1 of 1 completed\n"
     ]
    }
   ],
   "source": [
    "sklz=yf.download('sklz', period='1y')"
   ]
  },
  {
   "cell_type": "code",
   "execution_count": 91,
   "metadata": {},
   "outputs": [
    {
     "name": "stdout",
     "output_type": "stream",
     "text": [
      "[*********************100%***********************]  1 of 1 completed\n"
     ]
    }
   ],
   "source": [
    "Coke = yf.download('KO', period='1y')"
   ]
  },
  {
   "cell_type": "code",
   "execution_count": 9,
   "metadata": {},
   "outputs": [
    {
     "data": {
      "text/html": [
       "<div>\n",
       "<style scoped>\n",
       "    .dataframe tbody tr th:only-of-type {\n",
       "        vertical-align: middle;\n",
       "    }\n",
       "\n",
       "    .dataframe tbody tr th {\n",
       "        vertical-align: top;\n",
       "    }\n",
       "\n",
       "    .dataframe thead th {\n",
       "        text-align: right;\n",
       "    }\n",
       "</style>\n",
       "<table border=\"1\" class=\"dataframe\">\n",
       "  <thead>\n",
       "    <tr style=\"text-align: right;\">\n",
       "      <th></th>\n",
       "      <th>Open</th>\n",
       "      <th>High</th>\n",
       "      <th>Low</th>\n",
       "      <th>Close</th>\n",
       "      <th>Adj Close</th>\n",
       "      <th>Volume</th>\n",
       "    </tr>\n",
       "    <tr>\n",
       "      <th>Date</th>\n",
       "      <th></th>\n",
       "      <th></th>\n",
       "      <th></th>\n",
       "      <th></th>\n",
       "      <th></th>\n",
       "      <th></th>\n",
       "    </tr>\n",
       "  </thead>\n",
       "  <tbody>\n",
       "    <tr>\n",
       "      <th>2020-06-01</th>\n",
       "      <td>46.660000</td>\n",
       "      <td>47.230000</td>\n",
       "      <td>46.590000</td>\n",
       "      <td>46.990002</td>\n",
       "      <td>45.833645</td>\n",
       "      <td>17010700</td>\n",
       "    </tr>\n",
       "    <tr>\n",
       "      <th>2020-06-02</th>\n",
       "      <td>47.160000</td>\n",
       "      <td>47.279999</td>\n",
       "      <td>46.560001</td>\n",
       "      <td>46.900002</td>\n",
       "      <td>45.745865</td>\n",
       "      <td>15255100</td>\n",
       "    </tr>\n",
       "    <tr>\n",
       "      <th>2020-06-03</th>\n",
       "      <td>47.270000</td>\n",
       "      <td>48.119999</td>\n",
       "      <td>47.119999</td>\n",
       "      <td>47.900002</td>\n",
       "      <td>46.721252</td>\n",
       "      <td>15508300</td>\n",
       "    </tr>\n",
       "    <tr>\n",
       "      <th>2020-06-04</th>\n",
       "      <td>47.939999</td>\n",
       "      <td>48.270000</td>\n",
       "      <td>47.380001</td>\n",
       "      <td>47.919998</td>\n",
       "      <td>46.740753</td>\n",
       "      <td>13604700</td>\n",
       "    </tr>\n",
       "    <tr>\n",
       "      <th>2020-06-05</th>\n",
       "      <td>48.540001</td>\n",
       "      <td>49.490002</td>\n",
       "      <td>48.459999</td>\n",
       "      <td>49.090000</td>\n",
       "      <td>47.881969</td>\n",
       "      <td>20504800</td>\n",
       "    </tr>\n",
       "    <tr>\n",
       "      <th>2020-06-08</th>\n",
       "      <td>49.540001</td>\n",
       "      <td>49.970001</td>\n",
       "      <td>49.470001</td>\n",
       "      <td>49.849998</td>\n",
       "      <td>48.623264</td>\n",
       "      <td>19896700</td>\n",
       "    </tr>\n",
       "    <tr>\n",
       "      <th>2020-06-09</th>\n",
       "      <td>49.590000</td>\n",
       "      <td>49.590000</td>\n",
       "      <td>48.680000</td>\n",
       "      <td>49.000000</td>\n",
       "      <td>47.794182</td>\n",
       "      <td>16713700</td>\n",
       "    </tr>\n",
       "    <tr>\n",
       "      <th>2020-06-10</th>\n",
       "      <td>49.160000</td>\n",
       "      <td>49.270000</td>\n",
       "      <td>48.570000</td>\n",
       "      <td>48.619999</td>\n",
       "      <td>47.423534</td>\n",
       "      <td>15716600</td>\n",
       "    </tr>\n",
       "  </tbody>\n",
       "</table>\n",
       "</div>"
      ],
      "text/plain": [
       "                 Open       High        Low      Close  Adj Close    Volume\n",
       "Date                                                                       \n",
       "2020-06-01  46.660000  47.230000  46.590000  46.990002  45.833645  17010700\n",
       "2020-06-02  47.160000  47.279999  46.560001  46.900002  45.745865  15255100\n",
       "2020-06-03  47.270000  48.119999  47.119999  47.900002  46.721252  15508300\n",
       "2020-06-04  47.939999  48.270000  47.380001  47.919998  46.740753  13604700\n",
       "2020-06-05  48.540001  49.490002  48.459999  49.090000  47.881969  20504800\n",
       "2020-06-08  49.540001  49.970001  49.470001  49.849998  48.623264  19896700\n",
       "2020-06-09  49.590000  49.590000  48.680000  49.000000  47.794182  16713700\n",
       "2020-06-10  49.160000  49.270000  48.570000  48.619999  47.423534  15716600"
      ]
     },
     "execution_count": 9,
     "metadata": {},
     "output_type": "execute_result"
    }
   ],
   "source": [
    "Coke.loc['2020-6-1':'2020-6-10']"
   ]
  },
  {
   "cell_type": "code",
   "execution_count": 10,
   "metadata": {},
   "outputs": [
    {
     "data": {
      "text/plain": [
       "Open         5.302000e+01\n",
       "High         5.355000e+01\n",
       "Low          5.302000e+01\n",
       "Close        5.344000e+01\n",
       "Adj Close    5.344000e+01\n",
       "Volume       3.265500e+06\n",
       "Name: 2020-12-24 00:00:00, dtype: float64"
      ]
     },
     "execution_count": 10,
     "metadata": {},
     "output_type": "execute_result"
    }
   ],
   "source": [
    "Coke.loc[Coke.index.max()]"
   ]
  },
  {
   "cell_type": "code",
   "execution_count": 178,
   "metadata": {},
   "outputs": [
    {
     "name": "stderr",
     "output_type": "stream",
     "text": [
      "/home/ec2-user/anaconda3/envs/python3/lib/python3.6/site-packages/ipykernel/__main__.py:1: UserWarning: Boolean Series key will be reindexed to match DataFrame index.\n",
      "  if __name__ == '__main__':\n"
     ]
    },
    {
     "data": {
      "text/html": [
       "<div>\n",
       "<style scoped>\n",
       "    .dataframe tbody tr th:only-of-type {\n",
       "        vertical-align: middle;\n",
       "    }\n",
       "\n",
       "    .dataframe tbody tr th {\n",
       "        vertical-align: top;\n",
       "    }\n",
       "\n",
       "    .dataframe thead th {\n",
       "        text-align: right;\n",
       "    }\n",
       "</style>\n",
       "<table border=\"1\" class=\"dataframe\">\n",
       "  <thead>\n",
       "    <tr style=\"text-align: right;\">\n",
       "      <th></th>\n",
       "      <th>Open</th>\n",
       "      <th>High</th>\n",
       "      <th>Low</th>\n",
       "      <th>Close</th>\n",
       "      <th>Adj Close</th>\n",
       "      <th>Volume</th>\n",
       "      <th>Ticker</th>\n",
       "    </tr>\n",
       "    <tr>\n",
       "      <th>Date</th>\n",
       "      <th></th>\n",
       "      <th></th>\n",
       "      <th></th>\n",
       "      <th></th>\n",
       "      <th></th>\n",
       "      <th></th>\n",
       "      <th></th>\n",
       "    </tr>\n",
       "  </thead>\n",
       "  <tbody>\n",
       "    <tr>\n",
       "      <th>2020-06-05</th>\n",
       "      <td>48.540001</td>\n",
       "      <td>49.490002</td>\n",
       "      <td>48.459999</td>\n",
       "      <td>49.090000</td>\n",
       "      <td>47.881969</td>\n",
       "      <td>20504800</td>\n",
       "      <td>COKE</td>\n",
       "    </tr>\n",
       "    <tr>\n",
       "      <th>2020-06-08</th>\n",
       "      <td>49.540001</td>\n",
       "      <td>49.970001</td>\n",
       "      <td>49.470001</td>\n",
       "      <td>49.849998</td>\n",
       "      <td>48.623264</td>\n",
       "      <td>19896700</td>\n",
       "      <td>COKE</td>\n",
       "    </tr>\n",
       "    <tr>\n",
       "      <th>2020-06-09</th>\n",
       "      <td>49.590000</td>\n",
       "      <td>49.590000</td>\n",
       "      <td>48.680000</td>\n",
       "      <td>49.000000</td>\n",
       "      <td>47.794182</td>\n",
       "      <td>16713700</td>\n",
       "      <td>COKE</td>\n",
       "    </tr>\n",
       "    <tr>\n",
       "      <th>2020-06-10</th>\n",
       "      <td>49.160000</td>\n",
       "      <td>49.270000</td>\n",
       "      <td>48.570000</td>\n",
       "      <td>48.619999</td>\n",
       "      <td>47.423534</td>\n",
       "      <td>15716600</td>\n",
       "      <td>COKE</td>\n",
       "    </tr>\n",
       "  </tbody>\n",
       "</table>\n",
       "</div>"
      ],
      "text/plain": [
       "                 Open       High        Low      Close  Adj Close    Volume  \\\n",
       "Date                                                                          \n",
       "2020-06-05  48.540001  49.490002  48.459999  49.090000  47.881969  20504800   \n",
       "2020-06-08  49.540001  49.970001  49.470001  49.849998  48.623264  19896700   \n",
       "2020-06-09  49.590000  49.590000  48.680000  49.000000  47.794182  16713700   \n",
       "2020-06-10  49.160000  49.270000  48.570000  48.619999  47.423534  15716600   \n",
       "\n",
       "           Ticker  \n",
       "Date               \n",
       "2020-06-05   COKE  \n",
       "2020-06-08   COKE  \n",
       "2020-06-09   COKE  \n",
       "2020-06-10   COKE  "
      ]
     },
     "execution_count": 178,
     "metadata": {},
     "output_type": "execute_result"
    }
   ],
   "source": [
    "Coke.loc[Coke['High'] > 49]['2020-6-1':'2020-6-10'][Coke['Close'] > 48]"
   ]
  },
  {
   "cell_type": "code",
   "execution_count": 32,
   "metadata": {},
   "outputs": [
    {
     "data": {
      "text/plain": [
       "Open         2.500000e+01\n",
       "High         2.561000e+01\n",
       "Low          2.377000e+01\n",
       "Close        2.450000e+01\n",
       "Adj Close    2.450000e+01\n",
       "Volume       6.560800e+06\n",
       "Name: 2021-01-12 00:00:00, dtype: float64"
      ]
     },
     "execution_count": 32,
     "metadata": {},
     "output_type": "execute_result"
    }
   ],
   "source": [
    "sklz.loc[sklz.index.max()]"
   ]
  },
  {
   "cell_type": "code",
   "execution_count": 35,
   "metadata": {},
   "outputs": [
    {
     "data": {
      "text/plain": [
       "'Shell Companies'"
      ]
     },
     "execution_count": 35,
     "metadata": {},
     "output_type": "execute_result"
    }
   ],
   "source": [
    "PSTH.info['industry']"
   ]
  },
  {
   "cell_type": "code",
   "execution_count": 236,
   "metadata": {},
   "outputs": [
    {
     "data": {
      "text/plain": [
       "['VEL',\n",
       " 'IMAB',\n",
       " 'DNK',\n",
       " 'LIZI',\n",
       " 'SCVX',\n",
       " 'GHIV',\n",
       " 'ANVS',\n",
       " 'BDTX',\n",
       " 'ANPC',\n",
       " 'REYN',\n",
       " 'ONEM',\n",
       " 'ARQT',\n",
       " 'CSPR',\n",
       " 'SDGR',\n",
       " 'BEAM',\n",
       " 'PPD',\n",
       " 'ONEW',\n",
       " 'NREF',\n",
       " 'PFHD',\n",
       " 'CCAC',\n",
       " 'GNRS',\n",
       " 'HUIZ',\n",
       " 'RVMD',\n",
       " 'GRIL',\n",
       " 'MEDS',\n",
       " 'ZGYH',\n",
       " 'NBAC',\n",
       " 'CCXX',\n",
       " 'ESSC',\n",
       " 'DMYT',\n",
       " 'ZCMD',\n",
       " 'PASG',\n",
       " 'GFL',\n",
       " 'LSAC',\n",
       " 'FEAC',\n",
       " 'DFPH',\n",
       " 'IMRA',\n",
       " 'WIMI',\n",
       " 'ZNTL',\n",
       " 'KROS',\n",
       " 'IPOC',\n",
       " 'ORIC',\n",
       " 'PCPL',\n",
       " 'CHAQ',\n",
       " 'IPOB',\n",
       " 'FVAC',\n",
       " 'LYRA',\n",
       " 'CGRO',\n",
       " 'GAN',\n",
       " 'ROCH',\n",
       " 'SOAC',\n",
       " 'LOAK',\n",
       " 'KC',\n",
       " 'AYLA',\n",
       " 'CLEU',\n",
       " 'JWS',\n",
       " 'GIK',\n",
       " 'ADCT',\n",
       " 'NOVS',\n",
       " 'BMRG',\n",
       " 'SLQT',\n",
       " 'LGVW',\n",
       " 'NARI',\n",
       " 'WPF',\n",
       " 'PLRX',\n",
       " 'WMG',\n",
       " 'ZI',\n",
       " 'AMTI',\n",
       " 'CALT',\n",
       " 'DADA',\n",
       " 'FOUR',\n",
       " 'LEGN',\n",
       " 'ARYB',\n",
       " 'MCAC',\n",
       " 'VRM',\n",
       " 'HEC',\n",
       " 'UCL',\n",
       " 'LTRN',\n",
       " 'AZEK',\n",
       " 'BNR',\n",
       " 'GBIO',\n",
       " 'PCVX',\n",
       " 'RNA',\n",
       " 'RPRX',\n",
       " 'TREB',\n",
       " 'FMTX',\n",
       " 'GTH',\n",
       " 'PROG',\n",
       " 'RPTX',\n",
       " 'NUZE',\n",
       " 'BRLI',\n",
       " 'AKUS',\n",
       " 'EBON',\n",
       " 'FUSN',\n",
       " 'PYPD',\n",
       " 'API',\n",
       " 'ACI',\n",
       " 'FUSE',\n",
       " 'KCAC',\n",
       " 'ADTX']"
      ]
     },
     "execution_count": 236,
     "metadata": {},
     "output_type": "execute_result"
    }
   ],
   "source": [
    "stocks=df['Ticker'].tolist()\n",
    "stocks=stocks[:100]\n",
    "stocks"
   ]
  },
  {
   "cell_type": "code",
   "execution_count": 73,
   "metadata": {},
   "outputs": [],
   "source": [
    "stuff=yf.Tickers(list[:10])"
   ]
  },
  {
   "cell_type": "code",
   "execution_count": 250,
   "metadata": {},
   "outputs": [],
   "source": [
    "newdf=pd.DataFrame({\"Ticker\":[],\"Open\":[],\"High\":[],\"Low\":[],\"Close\":[],\"Adj Close\":[],\"Volume\":[]})\n",
    "sumdf=pd.DataFrame({\"Ticker\":[],\"IPO_date\":[],\"d1Open\":[],\"ATH\":[],\"ATH_Date\":[],\"ATL\":[],\"ATL_Date\":[]})\n"
   ]
  },
  {
   "cell_type": "code",
   "execution_count": 105,
   "metadata": {},
   "outputs": [],
   "source": [
    "sklz['Ticker']=\"SKLZ\""
   ]
  },
  {
   "cell_type": "code",
   "execution_count": 199,
   "metadata": {},
   "outputs": [
    {
     "data": {
      "text/html": [
       "<div>\n",
       "<style scoped>\n",
       "    .dataframe tbody tr th:only-of-type {\n",
       "        vertical-align: middle;\n",
       "    }\n",
       "\n",
       "    .dataframe tbody tr th {\n",
       "        vertical-align: top;\n",
       "    }\n",
       "\n",
       "    .dataframe thead th {\n",
       "        text-align: right;\n",
       "    }\n",
       "</style>\n",
       "<table border=\"1\" class=\"dataframe\">\n",
       "  <thead>\n",
       "    <tr style=\"text-align: right;\">\n",
       "      <th></th>\n",
       "      <th>Ticker</th>\n",
       "      <th>Open</th>\n",
       "      <th>High</th>\n",
       "      <th>Low</th>\n",
       "      <th>Close</th>\n",
       "      <th>Adj Close</th>\n",
       "      <th>Volume</th>\n",
       "    </tr>\n",
       "  </thead>\n",
       "  <tbody>\n",
       "    <tr>\n",
       "      <th>2020-05-08</th>\n",
       "      <td>SKLZ</td>\n",
       "      <td>9.85</td>\n",
       "      <td>10.0</td>\n",
       "      <td>9.85</td>\n",
       "      <td>10.0</td>\n",
       "      <td>10.0</td>\n",
       "      <td>349600.0</td>\n",
       "    </tr>\n",
       "  </tbody>\n",
       "</table>\n",
       "</div>"
      ],
      "text/plain": [
       "           Ticker  Open  High   Low  Close  Adj Close    Volume\n",
       "2020-05-08   SKLZ  9.85  10.0  9.85   10.0       10.0  349600.0"
      ]
     },
     "execution_count": 199,
     "metadata": {},
     "output_type": "execute_result"
    }
   ],
   "source": [
    "newdf[(newdf['Ticker'] == 'SKLZ') & (newdf['Open']==newdf['Open'].min())]"
   ]
  },
  {
   "cell_type": "code",
   "execution_count": 234,
   "metadata": {
    "collapsed": true,
    "jupyter": {
     "outputs_hidden": true
    }
   },
   "outputs": [
    {
     "name": "stdout",
     "output_type": "stream",
     "text": [
      "[*********************100%***********************]  1 of 1 completed\n",
      "[*********************100%***********************]  1 of 1 completed\n",
      "[*********************100%***********************]  1 of 1 completed\n",
      "[*********************100%***********************]  1 of 1 completed\n",
      "[*********************100%***********************]  1 of 1 completed\n",
      "[*********************100%***********************]  1 of 1 completed\n",
      "[*********************100%***********************]  1 of 1 completed\n",
      "[*********************100%***********************]  1 of 1 completed\n",
      "[*********************100%***********************]  1 of 1 completed\n",
      "[*********************100%***********************]  1 of 1 completed\n",
      "[*********************100%***********************]  1 of 1 completed\n",
      "[*********************100%***********************]  1 of 1 completed\n",
      "[*********************100%***********************]  1 of 1 completed\n",
      "[*********************100%***********************]  1 of 1 completed\n",
      "[*********************100%***********************]  1 of 1 completed\n",
      "[*********************100%***********************]  1 of 1 completed\n",
      "[*********************100%***********************]  1 of 1 completed\n",
      "[*********************100%***********************]  1 of 1 completed\n",
      "[*********************100%***********************]  1 of 1 completed\n",
      "[*********************100%***********************]  1 of 1 completed\n",
      "[*********************100%***********************]  1 of 1 completed\n",
      "[*********************100%***********************]  1 of 1 completed\n",
      "[*********************100%***********************]  1 of 1 completed\n",
      "[*********************100%***********************]  1 of 1 completed\n",
      "[*********************100%***********************]  1 of 1 completed\n",
      "[*********************100%***********************]  1 of 1 completed\n",
      "[*********************100%***********************]  1 of 1 completed\n",
      "[*********************100%***********************]  1 of 1 completed\n",
      "[*********************100%***********************]  1 of 1 completed\n",
      "[*********************100%***********************]  1 of 1 completed\n",
      "[*********************100%***********************]  1 of 1 completed\n",
      "[*********************100%***********************]  1 of 1 completed\n",
      "[*********************100%***********************]  1 of 1 completed\n",
      "[*********************100%***********************]  1 of 1 completed\n",
      "[*********************100%***********************]  1 of 1 completed\n",
      "[*********************100%***********************]  1 of 1 completed\n",
      "[*********************100%***********************]  1 of 1 completed\n",
      "[*********************100%***********************]  1 of 1 completed\n",
      "[*********************100%***********************]  1 of 1 completed\n",
      "[*********************100%***********************]  1 of 1 completed\n",
      "[*********************100%***********************]  1 of 1 completed\n",
      "[*********************100%***********************]  1 of 1 completed\n",
      "[*********************100%***********************]  1 of 1 completed\n",
      "[*********************100%***********************]  1 of 1 completed\n",
      "[*********************100%***********************]  1 of 1 completed\n",
      "[*********************100%***********************]  1 of 1 completed\n",
      "[*********************100%***********************]  1 of 1 completed\n",
      "[*********************100%***********************]  1 of 1 completed\n",
      "[*********************100%***********************]  1 of 1 completed\n",
      "[*********************100%***********************]  1 of 1 completed\n",
      "[*********************100%***********************]  1 of 1 completed\n",
      "[*********************100%***********************]  1 of 1 completed\n",
      "[*********************100%***********************]  1 of 1 completed\n",
      "[*********************100%***********************]  1 of 1 completed\n",
      "[*********************100%***********************]  1 of 1 completed\n",
      "[*********************100%***********************]  1 of 1 completed\n",
      "[*********************100%***********************]  1 of 1 completed\n",
      "[*********************100%***********************]  1 of 1 completed\n",
      "[*********************100%***********************]  1 of 1 completed\n",
      "[*********************100%***********************]  1 of 1 completed\n",
      "[*********************100%***********************]  1 of 1 completed\n",
      "[*********************100%***********************]  1 of 1 completed\n",
      "[*********************100%***********************]  1 of 1 completed\n",
      "[*********************100%***********************]  1 of 1 completed\n",
      "[*********************100%***********************]  1 of 1 completed\n",
      "[*********************100%***********************]  1 of 1 completed\n",
      "[*********************100%***********************]  1 of 1 completed\n",
      "[*********************100%***********************]  1 of 1 completed\n",
      "[*********************100%***********************]  1 of 1 completed\n",
      "[*********************100%***********************]  1 of 1 completed\n",
      "[*********************100%***********************]  1 of 1 completed\n",
      "[*********************100%***********************]  1 of 1 completed\n",
      "[*********************100%***********************]  1 of 1 completed\n",
      "[*********************100%***********************]  1 of 1 completed\n",
      "[*********************100%***********************]  1 of 1 completed\n",
      "[*********************100%***********************]  1 of 1 completed\n",
      "[*********************100%***********************]  1 of 1 completed\n",
      "[*********************100%***********************]  1 of 1 completed\n",
      "[*********************100%***********************]  1 of 1 completed\n",
      "[*********************100%***********************]  1 of 1 completed\n",
      "[*********************100%***********************]  1 of 1 completed\n",
      "[*********************100%***********************]  1 of 1 completed\n",
      "[*********************100%***********************]  1 of 1 completed\n",
      "[*********************100%***********************]  1 of 1 completed\n",
      "[*********************100%***********************]  1 of 1 completed\n",
      "[*********************100%***********************]  1 of 1 completed\n",
      "[*********************100%***********************]  1 of 1 completed\n",
      "[*********************100%***********************]  1 of 1 completed\n",
      "[*********************100%***********************]  1 of 1 completed\n",
      "[*********************100%***********************]  1 of 1 completed\n",
      "[*********************100%***********************]  1 of 1 completed\n",
      "[*********************100%***********************]  1 of 1 completed\n",
      "[*********************100%***********************]  1 of 1 completed\n",
      "[*********************100%***********************]  1 of 1 completed\n",
      "[*********************100%***********************]  1 of 1 completed\n",
      "[*********************100%***********************]  1 of 1 completed\n",
      "[*********************100%***********************]  1 of 1 completed\n",
      "[*********************100%***********************]  1 of 1 completed\n",
      "[*********************100%***********************]  1 of 1 completed\n",
      "[*********************100%***********************]  1 of 1 completed\n"
     ]
    }
   ],
   "source": [
    "for stock in stocks:\n",
    "    info = yf.download(stock, period='1y')\n",
    "    info['Ticker']=stock\n",
    "    newdf=newdf.append(info)"
   ]
  },
  {
   "cell_type": "code",
   "execution_count": 235,
   "metadata": {
    "collapsed": true,
    "jupyter": {
     "outputs_hidden": true
    }
   },
   "outputs": [
    {
     "data": {
      "text/html": [
       "<div>\n",
       "<style scoped>\n",
       "    .dataframe tbody tr th:only-of-type {\n",
       "        vertical-align: middle;\n",
       "    }\n",
       "\n",
       "    .dataframe tbody tr th {\n",
       "        vertical-align: top;\n",
       "    }\n",
       "\n",
       "    .dataframe thead th {\n",
       "        text-align: right;\n",
       "    }\n",
       "</style>\n",
       "<table border=\"1\" class=\"dataframe\">\n",
       "  <thead>\n",
       "    <tr style=\"text-align: right;\">\n",
       "      <th></th>\n",
       "      <th>Ticker</th>\n",
       "      <th>Open</th>\n",
       "      <th>High</th>\n",
       "      <th>Low</th>\n",
       "      <th>Close</th>\n",
       "      <th>Adj Close</th>\n",
       "      <th>Volume</th>\n",
       "    </tr>\n",
       "  </thead>\n",
       "  <tbody>\n",
       "    <tr>\n",
       "      <th>2020-01-17</th>\n",
       "      <td>VEL</td>\n",
       "      <td>13.85</td>\n",
       "      <td>14.2500</td>\n",
       "      <td>13.400</td>\n",
       "      <td>13.510</td>\n",
       "      <td>13.510</td>\n",
       "      <td>3438500.0</td>\n",
       "    </tr>\n",
       "    <tr>\n",
       "      <th>2020-01-21</th>\n",
       "      <td>VEL</td>\n",
       "      <td>13.52</td>\n",
       "      <td>14.2500</td>\n",
       "      <td>13.300</td>\n",
       "      <td>14.110</td>\n",
       "      <td>14.110</td>\n",
       "      <td>352000.0</td>\n",
       "    </tr>\n",
       "    <tr>\n",
       "      <th>2020-01-22</th>\n",
       "      <td>VEL</td>\n",
       "      <td>14.16</td>\n",
       "      <td>14.2500</td>\n",
       "      <td>13.800</td>\n",
       "      <td>14.050</td>\n",
       "      <td>14.050</td>\n",
       "      <td>246800.0</td>\n",
       "    </tr>\n",
       "    <tr>\n",
       "      <th>2020-01-23</th>\n",
       "      <td>VEL</td>\n",
       "      <td>14.10</td>\n",
       "      <td>14.1000</td>\n",
       "      <td>13.885</td>\n",
       "      <td>13.890</td>\n",
       "      <td>13.890</td>\n",
       "      <td>58500.0</td>\n",
       "    </tr>\n",
       "    <tr>\n",
       "      <th>2020-01-24</th>\n",
       "      <td>VEL</td>\n",
       "      <td>13.91</td>\n",
       "      <td>14.0300</td>\n",
       "      <td>13.170</td>\n",
       "      <td>13.640</td>\n",
       "      <td>13.640</td>\n",
       "      <td>139500.0</td>\n",
       "    </tr>\n",
       "    <tr>\n",
       "      <th>...</th>\n",
       "      <td>...</td>\n",
       "      <td>...</td>\n",
       "      <td>...</td>\n",
       "      <td>...</td>\n",
       "      <td>...</td>\n",
       "      <td>...</td>\n",
       "      <td>...</td>\n",
       "    </tr>\n",
       "    <tr>\n",
       "      <th>2021-01-11</th>\n",
       "      <td>ADTX</td>\n",
       "      <td>2.30</td>\n",
       "      <td>2.3400</td>\n",
       "      <td>2.170</td>\n",
       "      <td>2.260</td>\n",
       "      <td>2.260</td>\n",
       "      <td>583400.0</td>\n",
       "    </tr>\n",
       "    <tr>\n",
       "      <th>2021-01-12</th>\n",
       "      <td>ADTX</td>\n",
       "      <td>2.26</td>\n",
       "      <td>2.3800</td>\n",
       "      <td>2.255</td>\n",
       "      <td>2.340</td>\n",
       "      <td>2.340</td>\n",
       "      <td>495700.0</td>\n",
       "    </tr>\n",
       "    <tr>\n",
       "      <th>2021-01-13</th>\n",
       "      <td>ADTX</td>\n",
       "      <td>2.33</td>\n",
       "      <td>2.4450</td>\n",
       "      <td>2.280</td>\n",
       "      <td>2.405</td>\n",
       "      <td>2.405</td>\n",
       "      <td>675900.0</td>\n",
       "    </tr>\n",
       "    <tr>\n",
       "      <th>2021-01-14</th>\n",
       "      <td>ADTX</td>\n",
       "      <td>2.40</td>\n",
       "      <td>2.5800</td>\n",
       "      <td>2.310</td>\n",
       "      <td>2.470</td>\n",
       "      <td>2.470</td>\n",
       "      <td>1795400.0</td>\n",
       "    </tr>\n",
       "    <tr>\n",
       "      <th>2021-01-15</th>\n",
       "      <td>ADTX</td>\n",
       "      <td>2.46</td>\n",
       "      <td>2.4715</td>\n",
       "      <td>2.305</td>\n",
       "      <td>2.360</td>\n",
       "      <td>2.360</td>\n",
       "      <td>769955.0</td>\n",
       "    </tr>\n",
       "  </tbody>\n",
       "</table>\n",
       "<p>17358 rows × 7 columns</p>\n",
       "</div>"
      ],
      "text/plain": [
       "           Ticker   Open     High     Low   Close  Adj Close     Volume\n",
       "2020-01-17    VEL  13.85  14.2500  13.400  13.510     13.510  3438500.0\n",
       "2020-01-21    VEL  13.52  14.2500  13.300  14.110     14.110   352000.0\n",
       "2020-01-22    VEL  14.16  14.2500  13.800  14.050     14.050   246800.0\n",
       "2020-01-23    VEL  14.10  14.1000  13.885  13.890     13.890    58500.0\n",
       "2020-01-24    VEL  13.91  14.0300  13.170  13.640     13.640   139500.0\n",
       "...           ...    ...      ...     ...     ...        ...        ...\n",
       "2021-01-11   ADTX   2.30   2.3400   2.170   2.260      2.260   583400.0\n",
       "2021-01-12   ADTX   2.26   2.3800   2.255   2.340      2.340   495700.0\n",
       "2021-01-13   ADTX   2.33   2.4450   2.280   2.405      2.405   675900.0\n",
       "2021-01-14   ADTX   2.40   2.5800   2.310   2.470      2.470  1795400.0\n",
       "2021-01-15   ADTX   2.46   2.4715   2.305   2.360      2.360   769955.0\n",
       "\n",
       "[17358 rows x 7 columns]"
      ]
     },
     "execution_count": 235,
     "metadata": {},
     "output_type": "execute_result"
    }
   ],
   "source": [
    "newdf"
   ]
  },
  {
   "cell_type": "code",
   "execution_count": 243,
   "metadata": {},
   "outputs": [
    {
     "data": {
      "text/html": [
       "<div>\n",
       "<style scoped>\n",
       "    .dataframe tbody tr th:only-of-type {\n",
       "        vertical-align: middle;\n",
       "    }\n",
       "\n",
       "    .dataframe tbody tr th {\n",
       "        vertical-align: top;\n",
       "    }\n",
       "\n",
       "    .dataframe thead th {\n",
       "        text-align: right;\n",
       "    }\n",
       "</style>\n",
       "<table border=\"1\" class=\"dataframe\">\n",
       "  <thead>\n",
       "    <tr style=\"text-align: right;\">\n",
       "      <th></th>\n",
       "      <th>Ticker</th>\n",
       "      <th>Open</th>\n",
       "      <th>High</th>\n",
       "      <th>Low</th>\n",
       "      <th>Close</th>\n",
       "      <th>Adj Close</th>\n",
       "      <th>Volume</th>\n",
       "    </tr>\n",
       "  </thead>\n",
       "  <tbody>\n",
       "  </tbody>\n",
       "</table>\n",
       "</div>"
      ],
      "text/plain": [
       "Empty DataFrame\n",
       "Columns: [Ticker, Open, High, Low, Close, Adj Close, Volume]\n",
       "Index: []"
      ]
     },
     "execution_count": 243,
     "metadata": {},
     "output_type": "execute_result"
    }
   ],
   "source": [
    "newdf[((newdf['Ticker'] == 'IPOC')newdf['Open'].min()]"
   ]
  },
  {
   "cell_type": "code",
   "execution_count": 249,
   "metadata": {},
   "outputs": [
    {
     "data": {
      "text/plain": [
       "pandas.core.series.Series"
      ]
     },
     "execution_count": 249,
     "metadata": {},
     "output_type": "execute_result"
    }
   ],
   "source": [
    "type(IPOCd"
   ]
  }
 ],
 "metadata": {
  "kernelspec": {
   "display_name": "conda_python3",
   "language": "python",
   "name": "conda_python3"
  },
  "language_info": {
   "codemirror_mode": {
    "name": "ipython",
    "version": 3
   },
   "file_extension": ".py",
   "mimetype": "text/x-python",
   "name": "python",
   "nbconvert_exporter": "python",
   "pygments_lexer": "ipython3",
   "version": "3.6.10"
  }
 },
 "nbformat": 4,
 "nbformat_minor": 4
}
